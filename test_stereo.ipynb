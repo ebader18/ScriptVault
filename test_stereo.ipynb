{
 "cells": [
  {
   "cell_type": "markdown",
   "metadata": {},
   "source": [
    "## Initializing Intrinsic Parameters and Distortion Coefficients"
   ]
  },
  {
   "cell_type": "code",
   "execution_count": 10,
   "metadata": {},
   "outputs": [],
   "source": [
    "import json\n",
    "import numpy as np\n",
    "\n",
    "path_lcam_param = 'C:/_sw/_temp/stereo_left_1280_960.json'\n",
    "path_rcam_param = 'C:/_sw/_temp/stereo_right_1280_960.json'\n",
    "\n",
    "# Load the left camera parameters\n",
    "with open(path_lcam_param, 'r') as f:\n",
    "    data = json.load(f)\n",
    "K_left = np.array(data['K'])\n",
    "D_left = np.array(data['D']).reshape((4, 1))\n",
    "\n",
    "# Load the right camera parameters\n",
    "with open(path_rcam_param, 'r') as f:\n",
    "    data = json.load(f)\n",
    "K_right = np.array(data['K'])\n",
    "D_right = np.array(data['D']).reshape((4, 1))\n"
   ]
  },
  {
   "cell_type": "markdown",
   "metadata": {},
   "source": [
    "## Initializing Extrinsic Parameters"
   ]
  },
  {
   "cell_type": "code",
   "execution_count": 14,
   "metadata": {},
   "outputs": [],
   "source": [
    "# Rotation matrix (assuming no rotation between the two cameras)\n",
    "R = np.eye(3)  # Identity matrix for no rotation\n",
    "\n",
    "# Translation vector (baseline = 65mm = 0.065 meters)\n",
    "T = np.array([[-0.065], [0], [0]])"
   ]
  },
  {
   "cell_type": "markdown",
   "metadata": {},
   "source": [
    "## Stereo Rectification\n",
    "* Ensure that corresponding points in both the left and right images lie on the same horizontal line, making the disparity calculation easier.\n",
    "* compute the rectification transforms."
   ]
  },
  {
   "cell_type": "code",
   "execution_count": 16,
   "metadata": {},
   "outputs": [],
   "source": [
    "import cv2\n",
    "\n",
    "# Image size (adjust based on your images)\n",
    "image_size = (1280, 960)\n",
    "\n",
    "# Stereo rectification using OpenCV\n",
    "# R1, R2 are the rectification transforms for the left and right images\n",
    "# P1, P2 are the new projection matrices for the left and right images\n",
    "# Q is the reprojection matrix used for 3D reconstruction (optional)\n",
    "R1, R2, P1, P2, Q, _, _ = cv2.stereoRectify(K_left, D_left, K_right, D_right, image_size, R, T)\n",
    "\n",
    "# Compute rectification maps for left and right images\n",
    "left_map1, left_map2 = cv2.initUndistortRectifyMap(K_left, D_left, R1, P1, image_size, cv2.CV_32FC1)\n",
    "right_map1, right_map2 = cv2.initUndistortRectifyMap(K_right, D_right, R2, P2, image_size, cv2.CV_32FC1)\n",
    "\n",
    "# Load the stereo images (left and right images)\n",
    "left_image = cv2.imread('C:/_sw/ScriptVault/left_image_00000.png', cv2.IMREAD_GRAYSCALE)\n",
    "right_image = cv2.imread('C:/_sw/ScriptVault/right_image_00000.png', cv2.IMREAD_GRAYSCALE)\n",
    "\n",
    "# Apply the rectification maps to the images\n",
    "rectified_left = cv2.remap(left_image, left_map1, left_map2, cv2.INTER_LINEAR)\n",
    "rectified_right = cv2.remap(right_image, right_map1, right_map2, cv2.INTER_LINEAR)\n",
    "\n",
    "# Display the rectified images\n",
    "cv2.imshow(\"Rectified Left\", rectified_left)\n",
    "cv2.imshow(\"Rectified Right\", rectified_right)\n",
    "cv2.waitKey(0)\n",
    "cv2.destroyAllWindows()\n"
   ]
  },
  {
   "cell_type": "markdown",
   "metadata": {},
   "source": [
    "## Disparity Map Calculation"
   ]
  },
  {
   "cell_type": "code",
   "execution_count": 20,
   "metadata": {},
   "outputs": [],
   "source": [
    "import cv2\n",
    "import numpy as np\n",
    "\n",
    "# Load the rectified images\n",
    "# rectified_left = cv2.imread('rectified_left.png', cv2.IMREAD_GRAYSCALE)\n",
    "# rectified_right = cv2.imread('rectified_right.png', cv2.IMREAD_GRAYSCALE)\n",
    "\n",
    "# Create StereoSGBM object\n",
    "stereo_sgbm = cv2.StereoSGBM_create(\n",
    "    minDisparity=0,\n",
    "    numDisparities=16*5,  # Must be divisible by 16\n",
    "    blockSize=5,\n",
    "    P1=8*3*5**2,  # Control smoothness (smaller values = more detail)\n",
    "    P2=32*3*5**2, # Larger value for more smooth disparity\n",
    "    disp12MaxDiff=1,\n",
    "    uniquenessRatio=10,\n",
    "    speckleWindowSize=100,\n",
    "    speckleRange=32\n",
    ")\n",
    "\n",
    "# Compute the disparity map\n",
    "disparity = stereo_sgbm.compute(rectified_left, rectified_right)\n",
    "\n",
    "# Normalize the disparity map for visualization\n",
    "disparity_normalized = cv2.normalize(disparity, None, alpha=0, beta=255, norm_type=cv2.NORM_MINMAX, dtype=cv2.CV_8U)\n",
    "\n",
    "# Display the disparity map\n",
    "cv2.imshow(\"Disparity Map - SGBM\", disparity_normalized)\n",
    "cv2.waitKey(0)\n",
    "cv2.destroyAllWindows()\n"
   ]
  },
  {
   "cell_type": "markdown",
   "metadata": {},
   "source": [
    "## Depth Calculation"
   ]
  },
  {
   "cell_type": "code",
   "execution_count": 22,
   "metadata": {},
   "outputs": [],
   "source": [
    "# Extract focal length (fx)\n",
    "focal_length = K_left[0, 0]  # Focal length in pixels\n",
    "baseline = 0.065  # Baseline in meters (65mm)\n",
    "\n",
    "# Compute the depth map\n",
    "depth_map = np.zeros(disparity.shape, dtype=np.float32)\n",
    "depth_map[disparity > 0] = (focal_length * baseline) / disparity[disparity > 0]\n",
    "\n",
    "# Normalize the depth map for visualization (optional)\n",
    "depth_map_normalized = cv2.normalize(depth_map, None, 0, 255, cv2.NORM_MINMAX, dtype=cv2.CV_8U)\n",
    "\n",
    "# Display the depth map\n",
    "cv2.imshow(\"Depth Map\", depth_map_normalized)\n",
    "cv2.waitKey(0)\n",
    "cv2.destroyAllWindows()"
   ]
  },
  {
   "cell_type": "markdown",
   "metadata": {},
   "source": [
    "## 3D Reconstruction"
   ]
  },
  {
   "cell_type": "code",
   "execution_count": null,
   "metadata": {},
   "outputs": [],
   "source": [
    "# Reproject the disparity map to 3D space\n",
    "points_3D = cv2.reprojectImageTo3D(disparity, Q)\n",
    "\n",
    "# Mask to filter out points with invalid disparity (where disparity <= 0)\n",
    "mask = disparity > 0\n",
    "\n",
    "# Get the 3D points\n",
    "output_points = points_3D[mask]\n",
    "\n",
    "# Get the colors for each point from the rectified left image (for visualization)\n",
    "colors = cv2.cvtColor(rectified_left, cv2.COLOR_GRAY2RGB)\n",
    "output_colors = colors[mask]\n",
    "\n",
    "# Now you have a 3D point cloud in `output_points` and the corresponding colors in `output_colors`\n",
    "\n",
    "# Optionally, export the point cloud to a file for visualization in other software (e.g., PLY format)\n",
    "def write_ply(filename, vertices, colors):\n",
    "    vertices = vertices.reshape(-1, 3)\n",
    "    colors = colors.reshape(-1, 3)\n",
    "    with open(filename, 'w') as f:\n",
    "        f.write(f\"ply\\nformat ascii 1.0\\nelement vertex {len(vertices)}\\n\")\n",
    "        f.write(\"property float x\\nproperty float y\\nproperty float z\\n\")\n",
    "        f.write(\"property uchar red\\nproperty uchar green\\nproperty uchar blue\\n\")\n",
    "        f.write(\"end_header\\n\")\n",
    "        for i in range(len(vertices)):\n",
    "            f.write(f\"{vertices[i, 0]} {vertices[i, 1]} {vertices[i, 2]} {colors[i, 0]} {colors[i, 1]} {colors[i, 2]}\\n\")\n",
    "\n",
    "# Save the point cloud to a PLY file\n",
    "write_ply(\"output_point_cloud.ply\", output_points, output_colors)\n",
    "\n",
    "print(\"3D point cloud saved to 'output_point_cloud.ply'\")"
   ]
  }
 ],
 "metadata": {
  "kernelspec": {
   "display_name": "general",
   "language": "python",
   "name": "python3"
  },
  "language_info": {
   "codemirror_mode": {
    "name": "ipython",
    "version": 3
   },
   "file_extension": ".py",
   "mimetype": "text/x-python",
   "name": "python",
   "nbconvert_exporter": "python",
   "pygments_lexer": "ipython3",
   "version": "3.12.7"
  }
 },
 "nbformat": 4,
 "nbformat_minor": 2
}
